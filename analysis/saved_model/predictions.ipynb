{
 "cells": [
  {
   "cell_type": "code",
   "execution_count": 27,
   "metadata": {},
   "outputs": [],
   "source": [
    "import pandas as pd\n",
    "import numpy as np\n",
    "import joblib"
   ]
  },
  {
   "cell_type": "code",
   "execution_count": 13,
   "metadata": {},
   "outputs": [],
   "source": [
    "# Step 1: Coordinate the feature columns\n",
    "## Please make sure the order of features are consistent with the file `col_mapping_df.csv`\n",
    "input_dataset = pd.read_csv(\"PLEASE INPUT YOUR DIRECTORY\")\n",
    "col_mapping = pd.read_csv(\"col_mapping_df.csv\")"
   ]
  },
  {
   "cell_type": "code",
   "execution_count": 11,
   "metadata": {},
   "outputs": [],
   "source": [
    "# Step 2: Data Preproecssing\n",
    "## Load the encoder and scaler and transform to your dataset\n",
    "encoder = load(open('encoder.pkl', 'rb'))  #Categorical features such as race, gender\n",
    "scaler = load(open('scaler.pkl', 'rb'))   # Numeric features\n",
    "\n",
    "categorical_col = [\"race_source_value\", \"gender_source_value\"]\n",
    "numerical_col = col_mapping[col_mapping[\"column_names\"].isin(categorical_col)==False]\n",
    "\n",
    "X_categorical = input_dataset[categorical_col]\n",
    "X_numeric = input_dataset[numerical_col]\n",
    "X_cat_processed = encoder.transform(X_categorical)\n",
    "X_numeric_processed = scaler.transform(X_numeric)\n",
    "X_processed = np.concatenate([X_numeric_processed, X_cat_processed],axis=1)\n"
   ]
  },
  {
   "cell_type": "code",
   "execution_count": 26,
   "metadata": {},
   "outputs": [],
   "source": [
    "# Step3: Model prediction \n",
    "model = joblib.load(open('trained_Random_Forest.pkl', 'rb')) \n",
    "y_pred = model.predict(X_processed)"
   ]
  }
 ],
 "metadata": {
  "kernelspec": {
   "display_name": "venv",
   "language": "python",
   "name": "python3"
  },
  "language_info": {
   "codemirror_mode": {
    "name": "ipython",
    "version": 3
   },
   "file_extension": ".py",
   "mimetype": "text/x-python",
   "name": "python",
   "nbconvert_exporter": "python",
   "pygments_lexer": "ipython3",
   "version": "3.10.1"
  }
 },
 "nbformat": 4,
 "nbformat_minor": 2
}
